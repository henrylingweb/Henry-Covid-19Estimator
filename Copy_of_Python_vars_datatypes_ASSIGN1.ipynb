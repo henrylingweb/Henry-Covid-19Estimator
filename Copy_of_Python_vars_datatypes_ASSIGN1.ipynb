{
  "nbformat": 4,
  "nbformat_minor": 0,
  "metadata": {
    "colab": {
      "name": "Copy of Python_vars_datatypes_ASSIGN1.ipynb",
      "provenance": [],
      "collapsed_sections": [],
      "include_colab_link": true
    },
    "kernelspec": {
      "name": "python3",
      "display_name": "Python 3"
    }
  },
  "cells": [
    {
      "cell_type": "markdown",
      "metadata": {
        "id": "view-in-github",
        "colab_type": "text"
      },
      "source": [
        "<a href=\"https://colab.research.google.com/github/henrylingweb/Henry-Covid-19Estimator/blob/master/Copy_of_Python_vars_datatypes_ASSIGN1.ipynb\" target=\"_parent\"><img src=\"https://colab.research.google.com/assets/colab-badge.svg\" alt=\"Open In Colab\"/></a>"
      ]
    },
    {
      "cell_type": "markdown",
      "metadata": {
        "id": "ZvNsvUNNlZbi",
        "colab_type": "text"
      },
      "source": [
        "---\n",
        "# Lambda School Data Science - Intro to Python  \n",
        "---\n",
        "# Assignment 01 - Python Variables & Data Types\n",
        "\n",
        "\n",
        "---\n",
        "\n"
      ]
    },
    {
      "cell_type": "markdown",
      "metadata": {
        "id": "y8HUQb0OOztX",
        "colab_type": "text"
      },
      "source": [
        "##STOP! BEFORE GOING ANY FURTHER...  \n",
        "\n",
        "\n",
        "1. Click \"File\" at the top.\n",
        "2. Then, \"Save a Copy in Drive.\"\n",
        "3. Change the file name to \"FIRSTNAME_LASTNAME_assign1\"  \n",
        "\n",
        "Now you have a copy of this notebook in your Drive account. This is the copy you'll edit and submit. Be sure to do this for ***every*** assignment!\n"
      ]
    },
    {
      "cell_type": "markdown",
      "metadata": {
        "id": "o57NvhYkBjKH",
        "colab_type": "text"
      },
      "source": [
        "## Part 1: Variables\n"
      ]
    },
    {
      "cell_type": "markdown",
      "metadata": {
        "id": "4haXpvn1QXW_",
        "colab_type": "text"
      },
      "source": [
        "### 1.1 Create three numerical variables (ints and/or floats). At least one of your variables should have a negative value. Then add the three variables together.\n",
        "\n",
        "Name your variables `a`, `b`, and `c`. The sum should be named `sum_abc`. And also note that variables are case sensitive so make sure to name them exactly as listed above."
      ]
    },
    {
      "cell_type": "code",
      "metadata": {
        "id": "fAT1PiQCnIxZ",
        "colab_type": "code",
        "colab": {
          "base_uri": "https://localhost:8080/",
          "height": 34
        },
        "outputId": "2f18046d-6209-49bc-d905-015eda4fad1d"
      },
      "source": [
        "# Make sure to run this cell after you have created your variables!\n",
        "\n",
        "# Create your variables here.\n",
        "a = -7\n",
        "b = 8\n",
        "c = 10\n",
        "sum_abc = a + b + c\n",
        "# Add your variables together\n",
        "sum_abc"
      ],
      "execution_count": 12,
      "outputs": [
        {
          "output_type": "execute_result",
          "data": {
            "text/plain": [
              "11"
            ]
          },
          "metadata": {
            "tags": []
          },
          "execution_count": 12
        }
      ]
    },
    {
      "cell_type": "markdown",
      "metadata": {
        "id": "Gc5E7JApn9wV",
        "colab_type": "text"
      },
      "source": [
        "### Solution 1.1: Run the cell below to check your answer\n",
        "\n",
        "(**DO NOT** change anything in this cell; it's to help you check your answer!)"
      ]
    },
    {
      "cell_type": "code",
      "metadata": {
        "id": "PweN-CTws2EV",
        "colab_type": "code",
        "colab": {
          "base_uri": "https://localhost:8080/",
          "height": 34
        },
        "outputId": "8e74e3ef-eed4-44f6-8591-d3f557b30ae9"
      },
      "source": [
        "# DO NOT EDIT THIS CELL\n",
        "# Solution 1.1\n",
        "\n",
        "# Check to see that the variables exist\n",
        "assert a; assert b; assert c\n",
        "\n",
        "# Check for at least one negative variable\n",
        "assert not (a >= 0 and b >= 0 and c >=0), 'One of your variables should be negative.'\n",
        "\n",
        "# Check the sum of the variables\n",
        "assert (sum_abc == a + b + c ), \"Check the sum of your variables.\"\n",
        "\n",
        "print(\"Your variables and sum are correct.\")"
      ],
      "execution_count": 13,
      "outputs": [
        {
          "output_type": "stream",
          "text": [
            "Your variables and sum are correct.\n"
          ],
          "name": "stdout"
        }
      ]
    },
    {
      "cell_type": "markdown",
      "metadata": {
        "id": "QSk1zFf4Qbzk",
        "colab_type": "text"
      },
      "source": [
        "### 1.2 Write a sentence in five parts, assign each part to a variable, then concatenate them all together. Account for spacing!\n",
        "\n",
        "Name the parts of your sentence as follows: `part1`, `part2`, `part3`, `part4`, and `part5`. The concatenated sentence should be stored in the variable: `complete`."
      ]
    },
    {
      "cell_type": "code",
      "metadata": {
        "id": "i-d3b4fqQe9z",
        "colab_type": "code",
        "colab": {}
      },
      "source": [
        "# Assign your sentence parts below\n",
        "\n",
        "\n",
        "# Now concatentate your sentence\n",
        "\n",
        "\n",
        "# Use a print statement to print out your sentence\n"
      ],
      "execution_count": null,
      "outputs": []
    },
    {
      "cell_type": "markdown",
      "metadata": {
        "id": "5F0BeOmWjArC",
        "colab_type": "text"
      },
      "source": [
        "### Solution 1.2: Run the cell below to check your answer"
      ]
    },
    {
      "cell_type": "code",
      "metadata": {
        "id": "WkOmfdqBjORh",
        "colab_type": "code",
        "colab": {}
      },
      "source": [
        "# DO NOT EDIT THIS CELL\n",
        "# Solution 1.2\n",
        "\n",
        "# Check if all parts of the sentence were stored as variables\n",
        "assert part1; assert part2; assert part3; assert part4; assert part5\n",
        "\n",
        "# Check to see if all parts are in the concatenated sentence\n",
        "parts = (part1, part2, part3, part4, part5)\n",
        "parts_check = all(x in complete for x in parts)\n",
        "assert parts_check, 'A part of your sentence is missing.'\n",
        "\n",
        "print('Your sentence is correct.')"
      ],
      "execution_count": null,
      "outputs": []
    },
    {
      "cell_type": "markdown",
      "metadata": {
        "id": "M6L5GHLeIA8B",
        "colab_type": "text"
      },
      "source": [
        "### 1.3 Let's practice adding together variables of different types. \n",
        "\n",
        "Create a string variable named `mystring` and a float called `myfloat`. For example, your string could state \"The value of pi is about: \" and your float variable would be the answer, `3.14159`. Choose any mathematical constant you like.\n",
        "\n",
        "Then, in order to concatenate them, we need to convert the float to a string. Use the `str()` method to convert the float and name the new variable `myfloat_str`.\n",
        "\n",
        "Concatenate `mystring` and `myfloat_str` and name the resulting variable `mynewstring`."
      ]
    },
    {
      "cell_type": "code",
      "metadata": {
        "id": "XuUqVXpc8Apo",
        "colab_type": "code",
        "colab": {}
      },
      "source": [
        "# Create your variables below\n",
        "\n",
        "\n",
        "# Try to add your float and string together.\n",
        "# Then comment the line out or delete it.\n",
        "\n",
        "# Convert your float\n",
        "\n",
        "\n",
        "# Concatenate the two variables together\n",
        "\n",
        "\n",
        "# Print your answer\n"
      ],
      "execution_count": null,
      "outputs": []
    },
    {
      "cell_type": "markdown",
      "metadata": {
        "id": "cE2FUOIQ8XfC",
        "colab_type": "text"
      },
      "source": [
        "### Solution 1.3: Run the cell below to check your answer"
      ]
    },
    {
      "cell_type": "code",
      "metadata": {
        "id": "5f2X8J2p8ocS",
        "colab_type": "code",
        "colab": {}
      },
      "source": [
        "# DO NOT EDIT THIS CELL\n",
        "# Solution 1.3\n",
        "\n",
        "# Check the variable types\n",
        "assert isinstance(mystring, str), \"Your variable is not a string.\"\n",
        "assert isinstance(myfloat, float), \"Your variable is not a float.\"\n",
        "\n",
        "# Check the conversion to a string\n",
        "assert isinstance(myfloat_str, str), \"Your float hasn't been converted\"\n",
        "\n",
        "# Check the concatenation\n",
        "assert mynewstring == mystring + myfloat_str, \"Check your concatenation.\"\n",
        "\n",
        "print('Your sentence is correct!')"
      ],
      "execution_count": null,
      "outputs": []
    },
    {
      "cell_type": "markdown",
      "metadata": {
        "id": "8EYDz3UtQflV",
        "colab_type": "text"
      },
      "source": [
        "### 1.4 We need to calculate Joey's body mass index. Here's the formula for BMI:  \n",
        "\n",
        ">$\\frac{Weight(kg)}{Height(m)^2} = BMI$  \n",
        "\n",
        "Joey is 1.82 meters tall and weighs 78 kg. Create a variable for his height, weight, and BMI by combining the first two. Store your answer in the variables `height`, `weight`, and `bmi`.\n"
      ]
    },
    {
      "cell_type": "code",
      "metadata": {
        "id": "HOf18kjSQjZM",
        "colab_type": "code",
        "colab": {}
      },
      "source": [
        "# Create your height and weight variables\n",
        "\n",
        "# Calculate the BMI using the equation above\n"
      ],
      "execution_count": null,
      "outputs": []
    },
    {
      "cell_type": "markdown",
      "metadata": {
        "id": "EJ25e0GRkAgr",
        "colab_type": "text"
      },
      "source": [
        "### Solution 1.4: Run the cell below to check your solution\n"
      ]
    },
    {
      "cell_type": "code",
      "metadata": {
        "id": "wY4XF3ShkLrp",
        "colab_type": "code",
        "colab": {}
      },
      "source": [
        "# DO NOT EDIT THIS CELL\n",
        "# Solution 1.4\n",
        "\n",
        "# Check that the variables exist\n",
        "assert height, 'Missing height' # Why doesn't this assertion message work?\n",
        "assert weight, \"Missing weight\"\n",
        "assert bmi, \"Missing bmi\" \n",
        "\n",
        "# Feedback for common errors\n",
        "if bmi == weight / height:\n",
        "  print(\"Make sure your height variable is squared\")\n",
        "\n",
        "# Check the answer\n",
        "assert bmi == weight / height**2, \"Double check your BMI calculation\"\n",
        "\n",
        "print('Your answer is correct')"
      ],
      "execution_count": null,
      "outputs": []
    },
    {
      "cell_type": "markdown",
      "metadata": {
        "id": "SV0stA9BUSCn",
        "colab_type": "text"
      },
      "source": [
        "### 1.5 Now calculate Susie's BMI.\n",
        "Susie is 1.63 meters tall and weighs 59 kg. Calculate her BMI by changing the values of the variables you created above for Joey. Make sure to store your variables with the same names you used above."
      ]
    },
    {
      "cell_type": "code",
      "metadata": {
        "id": "FgQ4LB12Uitn",
        "colab_type": "code",
        "colab": {}
      },
      "source": [
        "# Adjust the values of the variables below\n"
      ],
      "execution_count": null,
      "outputs": []
    },
    {
      "cell_type": "markdown",
      "metadata": {
        "id": "z1iDo5jtrC3i",
        "colab_type": "text"
      },
      "source": [
        "###Solution 1.5: Run the cell below to check your answer"
      ]
    },
    {
      "cell_type": "code",
      "metadata": {
        "id": "TTkmAtHDrbe7",
        "colab_type": "code",
        "colab": {}
      },
      "source": [
        "# DO NOT EDIT THIS CELL\n",
        "# Solution 1.5\n",
        "\n",
        "# Check for new variable values\n",
        "assert height == 1.63, 'The height is not correct'\n",
        "assert weight == 59, 'The weight is not correct'\n",
        "assert bmi == weight / height**2, 'The BMI was not calculated correctly'\n",
        "\n",
        "print('Your answer is correct!)')"
      ],
      "execution_count": null,
      "outputs": []
    },
    {
      "cell_type": "markdown",
      "metadata": {
        "id": "LvfErOpESot3",
        "colab_type": "text"
      },
      "source": [
        "---\n",
        "## Part 2: Data Types"
      ]
    },
    {
      "cell_type": "markdown",
      "metadata": {
        "id": "1wzfFdmLUQoN",
        "colab_type": "text"
      },
      "source": [
        "### 2.1 Create variables of the following types with the names shown:\n",
        "`var1`: integer\n",
        "\n",
        "`var2`: float\n",
        "\n",
        "`var3`: Boolean\n",
        "\n",
        "`var4`: string"
      ]
    },
    {
      "cell_type": "code",
      "metadata": {
        "id": "UmTGOZqVVt-A",
        "colab_type": "code",
        "colab": {}
      },
      "source": [
        "# Create your variables below\n",
        "\n",
        "\n"
      ],
      "execution_count": null,
      "outputs": []
    },
    {
      "cell_type": "markdown",
      "metadata": {
        "id": "hTCxdLUsVyau",
        "colab_type": "text"
      },
      "source": [
        "### Solution 2.1: Run the cell below to check your answer."
      ]
    },
    {
      "cell_type": "code",
      "metadata": {
        "id": "vYr1Ft2DaVFY",
        "colab_type": "code",
        "colab": {}
      },
      "source": [
        "# DO NOT EDIT THIS CELL\n",
        "# Solution 2.1\n",
        "\n",
        "# Check the variable types \n",
        "assert isinstance(var1, int), \"var1 needs to be an integer.\"\n",
        "assert isinstance(var2, float), \"var2 needs to be a float.\"\n",
        "assert isinstance(var3, bool), \"var3 needs to be a Boolean.\"\n",
        "assert isinstance(var4, str), \"var4 needs to be a string.\"\n",
        "\n",
        "print(\"Your variables are all of the correct type.\")"
      ],
      "execution_count": null,
      "outputs": []
    },
    {
      "cell_type": "markdown",
      "metadata": {
        "id": "hBIomZKgS9Qw",
        "colab_type": "text"
      },
      "source": [
        "### 2.2 How do strings behave differently than integers or floats?\n",
        "\n",
        "Consider how they are added together."
      ]
    },
    {
      "cell_type": "markdown",
      "metadata": {
        "id": "RT5d5gOoTFbV",
        "colab_type": "text"
      },
      "source": [
        "*Write your answer for 2.2 below this line* Your answer should be 1-2 sentences: \n",
        "\n",
        "---\n",
        "HERE\n"
      ]
    },
    {
      "cell_type": "markdown",
      "metadata": {
        "id": "jTP3uU1EeRFH",
        "colab_type": "text"
      },
      "source": [
        "### 2.3 Add two Boolen variables together to equal 0 and again to equal 1.\n",
        "\n",
        "Create a variable called `zero` that adds together two boolean values and returns `0`. Create another variable called `one` that adds together two other boolean values and returns `1`."
      ]
    },
    {
      "cell_type": "code",
      "metadata": {
        "id": "biyPIf6ijrdV",
        "colab_type": "code",
        "colab": {}
      },
      "source": [
        "# Create your variables here\n",
        "\n",
        "zero = False\n",
        "one = True"
      ],
      "execution_count": null,
      "outputs": []
    },
    {
      "cell_type": "markdown",
      "metadata": {
        "id": "v7PPm9XKkLtb",
        "colab_type": "text"
      },
      "source": [
        "### Solution 2.3: Run the cell below to check your answer."
      ]
    },
    {
      "cell_type": "code",
      "metadata": {
        "id": "X2aqXHMYkJty",
        "colab_type": "code",
        "colab": {}
      },
      "source": [
        "# DO NOT EDIT THIS CELL\n",
        "# Solution 2.3\n",
        "\n",
        "# Check the value of the variables\n",
        "assert zero == 0, \"Your answer should be zero = False + False\"\n",
        "assert one == 1, \"Your answer should be one = True + False or one = False + True\""
      ],
      "execution_count": null,
      "outputs": []
    },
    {
      "cell_type": "markdown",
      "metadata": {
        "id": "mZHjZtMK08f8",
        "colab_type": "text"
      },
      "source": [
        "### 2.4 Let's create a dictionary!\n",
        "\n",
        "We'll make a dictionary that contains just a few entries. Remember that a Python dictionary consists of key:value pairs. The keys are like the name of the item and the value tells us something about that item.\n",
        "\n",
        "Your dictionary will be have three entries (three keys in this case) and a value for each key. We'll choose types of fruit and how many we have of each. A basic dictionary structure with the name `myfruit` was created for you using the { } - fill in the rest!"
      ]
    },
    {
      "cell_type": "code",
      "metadata": {
        "id": "YRJGWMhjBAUq",
        "colab_type": "code",
        "colab": {}
      },
      "source": [
        "# Create a dictionary\n",
        "# Delete fruit1, fruit2, num1, num2 and then\n",
        "# uncomment and fill in with YOUR VALUES\n",
        "\n",
        "# myfruit = {'fruit1':num1, 'fruit2':num2}\n",
        "\n"
      ],
      "execution_count": null,
      "outputs": []
    },
    {
      "cell_type": "markdown",
      "metadata": {
        "id": "3hD4i7q1BySn",
        "colab_type": "text"
      },
      "source": [
        "### Solution 2.4: Run the cell below to check your answer."
      ]
    },
    {
      "cell_type": "code",
      "metadata": {
        "id": "Nt_aT0C3S7Yz",
        "colab_type": "code",
        "colab": {}
      },
      "source": [
        "# DO NOT EDIT THIS CELL\n",
        "# Solution 2.4\n",
        "\n",
        "# Verify the dictionary myfruit still exists\n",
        "assert isinstance(myfruit, dict)\n",
        "\n",
        "# Verify the number of entries in the dictionary\n",
        "assert len(myfruit) == 3\n",
        "\n",
        "print(\"Your dictionary is correct!\")"
      ],
      "execution_count": null,
      "outputs": []
    },
    {
      "cell_type": "markdown",
      "metadata": {
        "id": "qVG_ZZyfTjyB",
        "colab_type": "text"
      },
      "source": [
        "---\n",
        "\n",
        "### Submit your assignment notebook! (Make sure you've changed the name to FIRSTNAME_LASTNAME_assign1): \n",
        "\n",
        "1.  Click the Share button in the upper-right hand corner of the notebook.\n",
        "2.  Get shareable link\n",
        "3.  Set condition to: \"Anyone with the link can comment\"\n",
        "\n",
        "---\n",
        "\n",
        "\n"
      ]
    }
  ]
}